{
 "cells": [
  {
   "cell_type": "code",
   "execution_count": null,
   "metadata": {},
   "outputs": [],
   "source": [
    "# this ReLU NN is just for test, we used the Sigmoid NN finally."
   ]
  },
  {
   "cell_type": "code",
   "execution_count": 1,
   "metadata": {},
   "outputs": [],
   "source": [
    "import pandas as pd\n",
    "import numpy as np\n",
    "train = pd.read_csv(\"train.csv\")\n",
    "X = pd.read_csv(\"use_embeddings.csv\")"
   ]
  },
  {
   "cell_type": "code",
   "execution_count": 2,
   "metadata": {},
   "outputs": [
    {
     "data": {
      "text/plain": [
       "array([[0, 0, 0, 0, 0, 0],\n",
       "       [0, 0, 0, 0, 0, 0],\n",
       "       [0, 0, 0, 0, 0, 0],\n",
       "       ...,\n",
       "       [0, 0, 0, 0, 0, 0],\n",
       "       [0, 0, 0, 0, 0, 0],\n",
       "       [0, 0, 0, 0, 0, 0]], dtype=int64)"
      ]
     },
     "execution_count": 2,
     "metadata": {},
     "output_type": "execute_result"
    }
   ],
   "source": [
    "#X.head()\n",
    "classes = [\"toxic\", \"severe_toxic\", \"obscene\", \"threat\", \"insult\", \"identity_hate\"]\n",
    "y = train[classes].values\n",
    "y"
   ]
  },
  {
   "cell_type": "code",
   "execution_count": 3,
   "metadata": {},
   "outputs": [],
   "source": [
    "input_size = 512\n",
    "hidden_size = 25\n",
    "num_labels = 6"
   ]
  },
  {
   "cell_type": "code",
   "execution_count": 4,
   "metadata": {},
   "outputs": [],
   "source": [
    "def ReLU(x):\n",
    "    return np.maximum(x, 0)"
   ]
  },
  {
   "cell_type": "code",
   "execution_count": 5,
   "metadata": {},
   "outputs": [],
   "source": [
    "def sigmoid(z):\n",
    "    return 1 / (1 + np.exp(-z))"
   ]
  },
  {
   "cell_type": "code",
   "execution_count": 6,
   "metadata": {},
   "outputs": [],
   "source": [
    "def forward_propagate(X, theta1, theta2):\n",
    "    m = X.shape[0]\n",
    "    \n",
    "    a1 = np.insert(X, 0, values=np.ones(m), axis=1)\n",
    "    z2 = a1 * theta1.T\n",
    "    a2 = np.insert(ReLU(z2), 0, values=np.ones(m), axis=1) #insert new bias\n",
    "    z3 = a2 * theta2.T\n",
    "    h = ReLU(z3)\n",
    "\n",
    "    return a1, z2, a2, z3, h"
   ]
  },
  {
   "cell_type": "code",
   "execution_count": 7,
   "metadata": {},
   "outputs": [],
   "source": [
    "def cost(theta1, theta2, X, y):\n",
    "    m = len(X)\n",
    "    X = np.matrix(X)\n",
    "    y = np.matrix(y)\n",
    "    \n",
    "    # run the feed-forward pass\n",
    "    a1, z2, a2, z3, h = forward_propagate(X, theta1, theta2)\n",
    "    print(z2)\n",
    "    \n",
    "    # compute the cost\n",
    "    J=0\n",
    "    J= -np.sum(np.multiply(y,np.log(h))+ np .multiply((1-y),np.log(1-h)))\n",
    "    return J / m"
   ]
  },
  {
   "cell_type": "code",
   "execution_count": 8,
   "metadata": {
    "scrolled": true
   },
   "outputs": [
    {
     "data": {
      "text/plain": [
       "((25, 513), (6, 26))"
      ]
     },
     "execution_count": 8,
     "metadata": {},
     "output_type": "execute_result"
    }
   ],
   "source": [
    "# the theta parameter vector \n",
    "params = np.random.random(size=hidden_size * (input_size + 1) + num_labels * (hidden_size + 1))  * np.sqrt(2 / input_size)\n",
    "\n",
    "# the theta matrix derived from params\n",
    "theta1 = np.matrix(np.reshape(params[:hidden_size * (input_size + 1)], (hidden_size, (input_size + 1))))\n",
    "theta2 = np.matrix(np.reshape(params[hidden_size * (input_size + 1):], (num_labels, (hidden_size + 1))))\n",
    "theta1.shape,theta2.shape"
   ]
  },
  {
   "cell_type": "code",
   "execution_count": 9,
   "metadata": {},
   "outputs": [
    {
     "name": "stdout",
     "output_type": "stream",
     "text": [
      "[[ 0.02343193  0.03625901  0.05233334 ...  0.02402458  0.02952305\n",
      "   0.00768668]\n",
      " [ 0.0548525   0.06598541  0.09281112 ...  0.05758111  0.06120266\n",
      "   0.02594293]\n",
      " [ 0.03132865  0.04607137  0.06487989 ...  0.04766089  0.02826324\n",
      "   0.00887721]\n",
      " ...\n",
      " [ 0.01852133  0.01865247  0.05212255 ... -0.02529627  0.02577316\n",
      "   0.01776005]\n",
      " [ 0.03962908 -0.01641863  0.00429717 ... -0.00218679 -0.02649107\n",
      "  -0.04243834]\n",
      " [ 0.00095765  0.01982819  0.02118117 ... -0.01019278  0.00755722\n",
      "  -0.03202809]]\n"
     ]
    },
    {
     "data": {
      "text/plain": [
       "0.9574016283169917"
      ]
     },
     "execution_count": 9,
     "metadata": {},
     "output_type": "execute_result"
    }
   ],
   "source": [
    "cost(theta1, theta2, X, y)"
   ]
  },
  {
   "cell_type": "code",
   "execution_count": 43,
   "metadata": {},
   "outputs": [],
   "source": [
    "def ReLU_gradient(x):\n",
    "    # ReLu 导数\n",
    "    x[x <= 0] = 0\n",
    "    x[x > 0] = 1\n",
    "\n",
    "    return x"
   ]
  },
  {
   "cell_type": "code",
   "execution_count": 47,
   "metadata": {},
   "outputs": [
    {
     "data": {
      "text/plain": [
       "((25, 513), (6, 26))"
      ]
     },
     "execution_count": 47,
     "metadata": {},
     "output_type": "execute_result"
    }
   ],
   "source": [
    "# He initialization:\n",
    "params = np.random.random(size=hidden_size * (input_size + 1) + num_labels * (hidden_size + 1))  * np.sqrt(2 / input_size)\n",
    "\n",
    "# the theta matrix derived from params\n",
    "theta1 = np.matrix(np.reshape(params[:hidden_size * (input_size + 1)], (hidden_size, (input_size + 1))))\n",
    "theta2 = np.matrix(np.reshape(params[hidden_size * (input_size + 1):], (num_labels, (hidden_size + 1))))\n",
    "theta1.shape, theta2.shape"
   ]
  },
  {
   "cell_type": "code",
   "execution_count": 48,
   "metadata": {},
   "outputs": [],
   "source": [
    "def backprop(params,  X, y):\n",
    "    m = len(X)\n",
    "    X = np.matrix(X)\n",
    "    y = np.matrix(y)\n",
    "    \n",
    "    # reshape the parameter array into parameter matrices for each layer\n",
    "    theta1 = np.matrix(np.reshape(params[:hidden_size * (input_size + 1)], (hidden_size, (input_size + 1))))\n",
    "    theta2 = np.matrix(np.reshape(params[hidden_size * (input_size + 1):], (num_labels, (hidden_size + 1))))\n",
    "    \n",
    "    # run the feed-forward pass\n",
    "    a1, z2, a2, z3, h = forward_propagate(X, theta1, theta2)\n",
    "    \n",
    "    # initializations\n",
    "    J = 0\n",
    "    delta1 = np.zeros(theta1.shape)# (25, 401)\n",
    "    delta2 = np.zeros(theta2.shape)# (10, 26)\n",
    "    \n",
    "    # compute the cost\n",
    "    for i in range(m):\n",
    "        first_part =np.multiply(-y[i,:],np.log(h[i,:]))\n",
    "        second_part =np.multiply((1-y[i,:]),np.log(1-h[i,:]))\n",
    "        J+=np.sum(first_part-second_part)\n",
    "    J = J/m\n",
    "    \n",
    "    # perform backpropagation\n",
    "    for t in range(m):#m=5000\n",
    "        \n",
    "        a_1t = a1[t,:]\n",
    "        z_2t=z2[t,:]\n",
    "        z_2t=np.insert(ReLU_gradient(z_2t),0,values=np.ones(1))\n",
    "        a_2t = a2[t,:]  \n",
    "        z_3t=z3[t,:]\n",
    "        ht=h[t,:]#(1,10)\n",
    "        yt = y[t,:]#(1,10)\n",
    "        d3_t=ht-yt\n",
    "            \n",
    "        d2_t=np.multiply((theta2.T*d3_t.T).T,z_2t)#(1,26)\n",
    "        delta1=delta1+np.multiply(d2_t[:,1:].T,a_1t)\n",
    "        delta2=delta2+np.multiply(d3_t.T,a_2t)\n",
    "\n",
    "    delta1 = delta1 / m\n",
    "    delta2 = delta2 / m\n",
    "\n",
    "    grad = np.concatenate((np.ravel(delta1), np.ravel(delta2)))\n",
    "    return J,grad"
   ]
  },
  {
   "cell_type": "code",
   "execution_count": 49,
   "metadata": {},
   "outputs": [
    {
     "data": {
      "text/plain": [
       "(0.9340223064914004, (12981,))"
      ]
     },
     "execution_count": 49,
     "metadata": {},
     "output_type": "execute_result"
    }
   ],
   "source": [
    "J, grad = backprop(params, X, y)\n",
    "J, grad.shape"
   ]
  },
  {
   "cell_type": "code",
   "execution_count": 52,
   "metadata": {},
   "outputs": [
    {
     "name": "stderr",
     "output_type": "stream",
     "text": [
      "<ipython-input-48-9f2936c10e19>:20: RuntimeWarning: divide by zero encountered in log\n",
      "  first_part =np.multiply(-y[i,:],np.log(h[i,:]))\n",
      "<ipython-input-48-9f2936c10e19>:20: RuntimeWarning: invalid value encountered in multiply\n",
      "  first_part =np.multiply(-y[i,:],np.log(h[i,:]))\n"
     ]
    },
    {
     "data": {
      "text/plain": [
       "     fun: 0.8524409365876907\n",
       "     jac: array([ 1.62927457e-03,  2.02013686e-06, -1.08944587e-05, ...,\n",
       "        1.53990080e-03,  8.31151218e-04,  3.36544546e-04])\n",
       " message: 'Converged (|f_n-f_(n-1)| ~= 0)'\n",
       "    nfev: 73\n",
       "     nit: 2\n",
       "  status: 1\n",
       " success: True\n",
       "       x: array([0.04344571, 0.01357052, 0.04141174, ..., 0.00621452, 0.0268822 ,\n",
       "       0.03687292])"
      ]
     },
     "execution_count": 52,
     "metadata": {},
     "output_type": "execute_result"
    }
   ],
   "source": [
    "from scipy.optimize import minimize\n",
    "#params = np.concatenate((np.ravel(theta1), np.ravel(theta2)))\n",
    "# minimize the objective function\n",
    "fmin = minimize(fun=backprop, x0=params, args=(X, y), \n",
    "                method='TNC', jac=True, options={'maxiter': 100})\n",
    "fmin"
   ]
  },
  {
   "cell_type": "code",
   "execution_count": 73,
   "metadata": {},
   "outputs": [
    {
     "data": {
      "text/plain": [
       "matrix([[0.10463801, 0.03027701, 0.06772978, 0.03185988, 0.06515787,\n",
       "         0.04423115],\n",
       "        [0.10873397, 0.03509132, 0.07341236, 0.03664002, 0.06562038,\n",
       "         0.05109007],\n",
       "        [0.10147263, 0.02770396, 0.06725987, 0.02601844, 0.05976468,\n",
       "         0.04297828],\n",
       "        ...,\n",
       "        [0.0902276 , 0.01964117, 0.0538952 , 0.01734861, 0.05308087,\n",
       "         0.03252998],\n",
       "        [0.08292541, 0.00658028, 0.04757285, 0.00802566, 0.03964106,\n",
       "         0.02309671],\n",
       "        [0.08325569, 0.01128825, 0.04977651, 0.01157749, 0.04492224,\n",
       "         0.02227482]])"
      ]
     },
     "execution_count": 73,
     "metadata": {},
     "output_type": "execute_result"
    }
   ],
   "source": [
    "X = np.matrix(X)\n",
    "#print(X.shape)\n",
    "theta1 = np.matrix(np.reshape(fmin.x[:hidden_size * (input_size + 1)], (hidden_size, (input_size + 1))))\n",
    "theta2 = np.matrix(np.reshape(fmin.x[hidden_size * (input_size + 1):], (num_labels, (hidden_size + 1))))\n",
    "#print(theta1)\n",
    "a1, z2, a2, z3, h = forward_propagate(X, theta1, theta2)\n",
    "y_pred = h\n",
    "y_pred"
   ]
  },
  {
   "cell_type": "code",
   "execution_count": 83,
   "metadata": {},
   "outputs": [],
   "source": [
    "from sklearn.metrics import roc_auc_score"
   ]
  },
  {
   "cell_type": "code",
   "execution_count": 88,
   "metadata": {},
   "outputs": [
    {
     "name": "stdout",
     "output_type": "stream",
     "text": [
      "Train ROC AUC Score: 0.687365661473018\n"
     ]
    }
   ],
   "source": [
    "scores_roc_aoc = []\n",
    "train_roc_auc = roc_auc_score(y, y_pred)\n",
    "print('Train ROC AUC Score:', train_roc_auc)"
   ]
  },
  {
   "cell_type": "code",
   "execution_count": null,
   "metadata": {},
   "outputs": [],
   "source": []
  }
 ],
 "metadata": {
  "kernelspec": {
   "display_name": "Python 3",
   "language": "python",
   "name": "python3"
  },
  "language_info": {
   "codemirror_mode": {
    "name": "ipython",
    "version": 3
   },
   "file_extension": ".py",
   "mimetype": "text/x-python",
   "name": "python",
   "nbconvert_exporter": "python",
   "pygments_lexer": "ipython3",
   "version": "3.7.1"
  }
 },
 "nbformat": 4,
 "nbformat_minor": 4
}
