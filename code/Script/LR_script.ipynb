{
 "cells": [
  {
   "cell_type": "code",
   "execution_count": 93,
   "metadata": {},
   "outputs": [],
   "source": [
    "import pandas as pd\n",
    "import numpy as np"
   ]
  },
  {
   "cell_type": "code",
   "execution_count": 94,
   "metadata": {},
   "outputs": [],
   "source": [
    "train = pd.read_csv(\"train.csv\")\n",
    "test = pd.read_csv(\"test.csv\")\n",
    "labels = pd.read_csv(\"test_labels.csv\")"
   ]
  },
  {
   "cell_type": "code",
   "execution_count": 95,
   "metadata": {},
   "outputs": [],
   "source": [
    "#train.head()\n",
    "#labels"
   ]
  },
  {
   "cell_type": "code",
   "execution_count": 96,
   "metadata": {},
   "outputs": [],
   "source": [
    "#train.isnull().any(),test.isnull().any()"
   ]
  },
  {
   "cell_type": "code",
   "execution_count": 97,
   "metadata": {},
   "outputs": [],
   "source": [
    "classes = [\"toxic\", \"severe_toxic\", \"obscene\", \"threat\", \"insult\", \"identity_hate\"]\n",
    "y = train[classes].values\n",
    "list_sentences_train = train[\"comment_text\"]\n",
    "list_sentences_test = test[\"comment_text\"]"
   ]
  },
  {
   "cell_type": "code",
   "execution_count": 98,
   "metadata": {},
   "outputs": [],
   "source": [
    "from keras.preprocessing.text import Tokenizer"
   ]
  },
  {
   "cell_type": "code",
   "execution_count": 99,
   "metadata": {},
   "outputs": [],
   "source": [
    "max_features = 20000\n",
    "tokenizer = Tokenizer(num_words=max_features)\n",
    "tokenizer.fit_on_texts(list(list_sentences_train))\n",
    "list_tokenized_train = tokenizer.texts_to_sequences(list_sentences_train)\n",
    "list_tokenized_test = tokenizer.texts_to_sequences(list_sentences_test)"
   ]
  },
  {
   "cell_type": "code",
   "execution_count": 100,
   "metadata": {},
   "outputs": [],
   "source": [
    "from keras.preprocessing.sequence import pad_sequences    #用于填充序列为maxlen：keras只能接受长度相同的序列输入。因此如果目前序列长度参差不齐，这时需要使用pad_sequences()。该函数是将序列转化为经过填充以后的一个长度相同的新序列新序列。"
   ]
  },
  {
   "cell_type": "code",
   "execution_count": 101,
   "metadata": {},
   "outputs": [],
   "source": [
    "maxlen = 200\n",
    "X_t = pad_sequences(list_tokenized_train, maxlen=maxlen)    #train set\n",
    "X_te = pad_sequences(list_tokenized_test, maxlen=maxlen)    #test set"
   ]
  },
  {
   "cell_type": "code",
   "execution_count": 102,
   "metadata": {
    "scrolled": true
   },
   "outputs": [],
   "source": [
    "#X_te.shape\n",
    "#X_te"
   ]
  },
  {
   "cell_type": "code",
   "execution_count": 103,
   "metadata": {
    "scrolled": true
   },
   "outputs": [],
   "source": [
    "#transfer to dataframe\n",
    "X_t1 = pd.DataFrame(X_t)\n",
    "#X_t1\n",
    "X_te1 = pd.DataFrame(X_te)\n",
    "#X_te1\n",
    "y_data = pd.DataFrame(y)\n",
    "#y_data"
   ]
  },
  {
   "cell_type": "code",
   "execution_count": 104,
   "metadata": {},
   "outputs": [],
   "source": [
    "y_toxic = y_data[0]\n",
    "y_severe_toxic = y_data[1]\n",
    "y_obscene = y_data[2]\n",
    "y_threat = y_data[3]\n",
    "y_insult = y_data[4]\n",
    "y_identity_hate = y_data[5]"
   ]
  },
  {
   "cell_type": "code",
   "execution_count": 105,
   "metadata": {},
   "outputs": [],
   "source": [
    "def sigmoid(z):\n",
    "    temp = 1+np.exp(-z)\n",
    "    result = 1/temp\n",
    "    return result"
   ]
  },
  {
   "cell_type": "code",
   "execution_count": 106,
   "metadata": {},
   "outputs": [],
   "source": [
    "def cost(theta, X, y):\n",
    "    ''' cost function for you to minimize'''\n",
    "    # use dot() function to calculate matrices multiplication\n",
    "    theta_x = np.dot(theta, X.transpose())\n",
    "    h_x = []\n",
    "    for i in theta_x:\n",
    "        h_x.append(sigmoid(i))\n",
    "    cost = []\n",
    "    for i in range(len(y)):\n",
    "        cost.append(-y[i]*np.log(h_x[i])-(1-y[i])*np.log(1-h_x[i]))\n",
    "    result = sum(cost) / len(y)\n",
    "    return result"
   ]
  },
  {
   "cell_type": "code",
   "execution_count": 107,
   "metadata": {},
   "outputs": [],
   "source": [
    "#add 1\n",
    "X_t1.insert(0, 'Ones', 1)\n",
    "#X_t1"
   ]
  },
  {
   "cell_type": "code",
   "execution_count": 108,
   "metadata": {},
   "outputs": [
    {
     "data": {
      "text/plain": [
       "((159571, 201), (201,), (159571,))"
      ]
     },
     "execution_count": 108,
     "metadata": {},
     "output_type": "execute_result"
    }
   ],
   "source": [
    "theta = np.array(np.zeros(201))\n",
    "X_t1.shape, theta.shape, y_toxic.shape"
   ]
  },
  {
   "cell_type": "code",
   "execution_count": 129,
   "metadata": {},
   "outputs": [
    {
     "data": {
      "text/plain": [
       "0.6931471805585643"
      ]
     },
     "execution_count": 129,
     "metadata": {},
     "output_type": "execute_result"
    }
   ],
   "source": [
    "#cost(theta, X_t1, y_toxic)\n",
    "cost(theta, X_t1, y_severe_toxic)"
   ]
  },
  {
   "cell_type": "code",
   "execution_count": 130,
   "metadata": {},
   "outputs": [],
   "source": [
    "def gradient(theta, X, y):\n",
    "    theta_x = np.dot(theta, X.transpose())\n",
    "    h_x = sigmoid(theta_x)\n",
    "    grad = (1/len(y))*np.dot(h_x-y.transpose(), X)\n",
    "    return grad"
   ]
  },
  {
   "cell_type": "code",
   "execution_count": 136,
   "metadata": {
    "scrolled": true
   },
   "outputs": [],
   "source": [
    "#gra1 = gradient(theta, X_t1, y_toxic)\n",
    "#gra1\n",
    "#gra2 = gradient(theta, X_t1, y_severe_toxic)\n",
    "#gra2"
   ]
  },
  {
   "cell_type": "code",
   "execution_count": 137,
   "metadata": {
    "scrolled": true
   },
   "outputs": [],
   "source": [
    "import scipy.optimize as opt\n",
    "#x0 = np.asarray(gra1)\n",
    "#x0_severe_toxic = np.asarray(gra2)\n",
    "#x0_severe_toxic"
   ]
  },
  {
   "cell_type": "code",
   "execution_count": 121,
   "metadata": {},
   "outputs": [
    {
     "data": {
      "text/plain": [
       "     fun: 0.3107386230816921\n",
       "     jac: array([ 1.71777422e-05,  5.25880591e-04,  1.09716811e-04, -1.34083843e-04,\n",
       "        1.70339891e-03,  9.90386419e-04,  1.10455517e-03,  1.04027666e-03,\n",
       "        1.13553807e-03, -2.60143221e-05,  1.28213488e-03,  1.49997762e-03,\n",
       "        1.14241295e-03,  5.71953911e-04,  1.62638116e-03,  8.12609678e-04,\n",
       "        7.40423168e-04,  1.10333373e-03,  5.71066601e-04,  5.80147035e-04,\n",
       "        2.66417177e-04,  5.29709800e-04,  1.31606521e-04, -4.86134449e-04,\n",
       "        3.75166152e-04,  3.73589356e-04,  4.10358819e-04,  1.39403988e-03,\n",
       "        4.54060736e-04,  4.08167356e-04,  2.75419874e-04,  2.31126642e-05,\n",
       "        7.49324649e-04,  1.85079244e-04, -3.80842942e-04,  4.93572979e-04,\n",
       "        4.82231131e-04,  4.86114770e-04, -5.39032181e-04,  7.84681088e-04,\n",
       "       -5.54156672e-04,  7.20094404e-04,  6.95126945e-04,  5.86219700e-04,\n",
       "        1.91443877e-04,  8.56777765e-05,  3.48547625e-04,  2.46417863e-04,\n",
       "        4.27395194e-04,  1.15692047e-03,  3.88155455e-04,  8.03412865e-04,\n",
       "        8.45879486e-04,  4.03364597e-04,  9.76341548e-04,  6.78517038e-04,\n",
       "        6.75120389e-04, -1.10715243e-04,  4.56049526e-04,  8.25227218e-04,\n",
       "        1.03400503e-03,  4.09932046e-04,  8.37166810e-04,  3.62271256e-04,\n",
       "        6.00770844e-04,  9.74279105e-04,  1.05756909e-03,  5.14569353e-04,\n",
       "        1.21814353e-03,  8.13535894e-04,  1.19244901e-03,  8.70748240e-05,\n",
       "        5.37173649e-04,  6.66446275e-04, -6.22985687e-04,  5.76919631e-04,\n",
       "        1.55336904e-04,  1.20988180e-03, -3.20811289e-06,  4.28375188e-04,\n",
       "        3.22921878e-04, -2.19204671e-05,  2.67907330e-04,  6.00180493e-04,\n",
       "        7.16841058e-04,  1.03298275e-04, -6.34330112e-04,  2.66359183e-05,\n",
       "       -1.24381028e-04, -4.31349696e-04, -8.63919732e-04, -5.29865659e-04,\n",
       "       -9.36889452e-04, -6.91027365e-04, -3.30659317e-04, -6.00804626e-04,\n",
       "       -8.57416270e-04, -1.15754886e-03, -5.69522593e-04, -1.21353756e-03,\n",
       "       -1.29273081e-03, -9.81900148e-04, -1.12986227e-03, -1.10671036e-03,\n",
       "       -1.03402602e-03, -2.71902281e-04, -1.70088917e-03, -9.06675362e-04,\n",
       "       -4.86188094e-04, -5.49098497e-04, -2.17820534e-04, -3.51248378e-04,\n",
       "       -3.73038853e-04,  1.32279157e-04, -4.08322373e-04, -2.41173378e-04,\n",
       "       -7.82873531e-04,  1.20783731e-04, -3.73514725e-04, -3.03688140e-04,\n",
       "       -4.43350111e-04,  1.46859062e-05,  1.33878933e-04,  3.32281076e-04,\n",
       "        1.40899139e-04,  6.98802526e-05,  1.73843506e-04,  4.04543093e-05,\n",
       "       -2.78572856e-04,  2.26996151e-04,  3.09226337e-04,  3.53893887e-04,\n",
       "        4.18371177e-04,  2.00463623e-04,  7.65436994e-04,  4.76773002e-04,\n",
       "        9.10678069e-04,  7.58255062e-04,  2.41280011e-04, -4.10153558e-06,\n",
       "        1.12010627e-03,  1.51136191e-03,  1.08802965e-03,  8.76997662e-04,\n",
       "        7.49684857e-04,  1.22424633e-03,  1.52379051e-03,  1.25582844e-03,\n",
       "        7.58792757e-04,  1.29547270e-03,  8.13194139e-04,  8.71266514e-04,\n",
       "        1.30266421e-03,  1.29235899e-03,  6.64382732e-04,  4.72555178e-04,\n",
       "        9.11676599e-04,  6.06850678e-04,  3.95165110e-04,  1.57878587e-03,\n",
       "        8.97560820e-04,  7.74587966e-04,  3.59795153e-04,  1.60780985e-04,\n",
       "        5.66886326e-04,  1.05071494e-03, -1.24761075e-04,  1.05990322e-03,\n",
       "        5.78919312e-04, -9.67788118e-05,  3.61035460e-04,  6.45313372e-05,\n",
       "       -7.41911088e-05,  6.80853081e-04, -2.29181095e-04,  6.72775537e-04,\n",
       "        3.32523838e-04,  3.12814867e-04,  5.51463945e-04, -3.00783979e-04,\n",
       "        8.18390996e-04,  5.65146669e-04,  3.80719825e-04,  5.79609675e-04,\n",
       "        5.33617747e-04,  5.49482992e-04,  2.09123287e-04,  6.86045243e-04,\n",
       "        5.24962938e-04,  2.65667298e-04,  8.39333912e-05, -2.96224763e-04,\n",
       "       -7.30015900e-04, -1.52425049e-03, -2.41385880e-03, -3.23887322e-03,\n",
       "       -4.97232199e-03, -2.68562867e-03,  4.19783066e-04, -5.11306805e-03,\n",
       "        3.25034951e-03])\n",
       " message: 'Converged (|f_n-f_(n-1)| ~= 0)'\n",
       "    nfev: 82\n",
       "     nit: 15\n",
       "  status: 1\n",
       " success: True\n",
       "       x: array([-2.22034046e+00, -1.56965484e-06,  1.85669849e-05, -1.33499424e-05,\n",
       "       -7.88332497e-07, -1.67212074e-05,  1.32098748e-05,  1.68325309e-06,\n",
       "       -2.98558978e-06,  1.98494213e-05, -2.57021156e-05, -1.01459691e-05,\n",
       "        7.80069841e-06,  2.84104158e-07,  1.64583099e-05,  1.14498885e-05,\n",
       "        2.57693714e-05,  1.21216349e-05,  1.50046601e-05, -7.15242633e-06,\n",
       "        1.63063085e-05,  2.11944264e-05, -7.44676351e-06, -2.87450923e-05,\n",
       "       -4.51929155e-05, -2.76712417e-07,  3.26177101e-07, -2.22854264e-06,\n",
       "       -1.00259754e-05, -1.48798461e-05,  1.73708487e-07,  1.18319565e-05,\n",
       "        9.93166888e-06,  1.25977668e-05,  3.39032331e-06, -7.77886049e-06,\n",
       "       -2.06346249e-05,  2.52620316e-05,  2.43217417e-05, -2.52314147e-05,\n",
       "        6.82976716e-06, -8.93867835e-06, -8.63476682e-06, -4.07814009e-06,\n",
       "       -1.88218410e-05,  2.40525040e-05, -6.97782873e-06,  8.06625718e-06,\n",
       "        1.39876818e-05,  8.87363142e-06,  5.13035386e-06,  3.71922822e-06,\n",
       "       -1.80738642e-06, -1.09645642e-05, -1.12718602e-05,  8.23629737e-06,\n",
       "       -4.84643907e-06,  6.78615158e-06, -2.79378492e-06, -8.12936134e-06,\n",
       "       -1.71903154e-05,  7.38805677e-06,  3.07797444e-05,  2.59245410e-05,\n",
       "       -2.14131144e-05,  7.36311473e-06, -9.48043988e-06, -3.95323484e-06,\n",
       "       -1.52885049e-05,  8.50678279e-06, -4.58123877e-06,  5.29852911e-06,\n",
       "       -5.42277370e-06, -1.84732873e-05,  5.83325494e-06, -1.97501279e-05,\n",
       "        6.57356189e-06,  4.78028755e-07, -1.24002700e-05, -3.60600319e-06,\n",
       "        6.27689830e-06,  1.38994757e-06,  2.85320154e-06, -1.98904573e-05,\n",
       "        1.18692338e-05,  6.04453814e-06,  2.08800963e-06,  1.23773398e-07,\n",
       "       -8.25699211e-06, -4.07692559e-07, -4.55279683e-07, -6.24329924e-06,\n",
       "       -1.13986776e-05, -8.35681243e-06, -6.40618655e-06, -5.12983759e-06,\n",
       "       -5.86138143e-06,  1.27275177e-05, -6.38478348e-06, -6.47561713e-06,\n",
       "       -4.17156895e-06, -5.41650201e-06, -5.76158656e-06, -2.93000499e-05,\n",
       "        8.35482685e-06, -9.28547730e-06,  3.99850436e-06, -4.33607796e-06,\n",
       "       -1.33905214e-05,  5.52972023e-06, -7.90921169e-06,  1.91095887e-05,\n",
       "        1.36423639e-05, -1.27226277e-05, -1.67157468e-05, -2.37902944e-06,\n",
       "        1.08436910e-06,  4.29601358e-06, -1.36755284e-05,  7.97873086e-06,\n",
       "       -2.10847427e-06, -4.69732908e-06, -9.99496048e-06, -1.47513139e-05,\n",
       "        1.23386031e-06,  1.12399696e-06, -4.61736871e-06,  3.98276800e-06,\n",
       "        7.74574882e-06, -1.30748141e-05, -1.29787246e-05, -8.15703923e-06,\n",
       "       -5.43803308e-07, -1.48624647e-05,  7.71270632e-06, -3.05881033e-05,\n",
       "       -5.84311094e-06, -3.54612830e-06, -8.79902016e-06, -1.02021181e-05,\n",
       "       -2.07827755e-06,  7.72219564e-07, -1.70199891e-05, -3.64806173e-06,\n",
       "       -2.25889621e-05,  9.93330173e-06, -8.62905325e-07, -6.40980780e-06,\n",
       "       -9.32114671e-06, -2.40846771e-06, -1.26025462e-05, -1.18602105e-05,\n",
       "       -3.14914838e-06, -3.86979677e-06, -6.63548544e-06, -2.14258695e-05,\n",
       "       -1.69412110e-05, -1.56733649e-05, -1.65150084e-05, -1.02718936e-05,\n",
       "       -8.22344176e-06, -1.84578023e-05, -2.75333878e-05, -8.92657576e-06,\n",
       "       -1.15191571e-05, -1.59346768e-05, -9.51430996e-06, -8.81975717e-06,\n",
       "       -1.33539817e-05, -8.47638345e-06, -5.30698419e-06, -1.51343666e-05,\n",
       "       -2.00558268e-05, -1.10575484e-05, -1.46149848e-05, -6.06247879e-06,\n",
       "       -1.08950039e-05, -1.02521686e-05, -2.72465062e-06, -1.90656208e-05,\n",
       "       -2.06250969e-06, -6.96880852e-06, -1.12617101e-06,  1.77028905e-06,\n",
       "        9.56280160e-07,  2.44242461e-07, -5.54489971e-06,  6.24117462e-06,\n",
       "        4.16938269e-06,  3.80133353e-06,  2.10335890e-06,  5.46167287e-06,\n",
       "        1.75041057e-05,  1.51940929e-05,  1.48408521e-05,  1.84648846e-05,\n",
       "        1.53874298e-05,  2.28450770e-05,  1.30928673e-05,  1.57416044e-05,\n",
       "        1.71635291e-05])"
      ]
     },
     "execution_count": 121,
     "metadata": {},
     "output_type": "execute_result"
    }
   ],
   "source": [
    "#千万不要重新跑\n",
    "result = opt.minimize(fun=cost, x0=theta, args = (X_t1, y_toxic), method='TNC', jac = gradient)\n",
    "result"
   ]
  },
  {
   "cell_type": "code",
   "execution_count": null,
   "metadata": {},
   "outputs": [
    {
     "name": "stderr",
     "output_type": "stream",
     "text": [
      "<ipython-input-106-961381ccff74>:10: RuntimeWarning: divide by zero encountered in log\n",
      "  cost.append(-y[i]*np.log(h_x[i])-(1-y[i])*np.log(1-h_x[i]))\n",
      "<ipython-input-106-961381ccff74>:10: RuntimeWarning: invalid value encountered in multiply\n",
      "  cost.append(-y[i]*np.log(h_x[i])-(1-y[i])*np.log(1-h_x[i]))\n"
     ]
    }
   ],
   "source": [
    "#千万不要重新跑 y_severe_toxic\n",
    "result_2 = opt.minimize(fun=cost, x0=theta, args = (X_t1, y_severe_toxic), method='TNC', jac = gradient)\n",
    "result_2"
   ]
  },
  {
   "cell_type": "code",
   "execution_count": 124,
   "metadata": {},
   "outputs": [
    {
     "data": {
      "text/plain": [
       "0.3107386230816921"
      ]
     },
     "execution_count": 124,
     "metadata": {},
     "output_type": "execute_result"
    }
   ],
   "source": [
    "cost(result.x, X_t1, y_toxic)"
   ]
  },
  {
   "cell_type": "code",
   "execution_count": 125,
   "metadata": {},
   "outputs": [],
   "source": [
    "def predict(theta, X):\n",
    "    #theta_x = np.dot(theta, X.transpose())\n",
    "    #print(theta_x)\n",
    "    probability = sigmoid(np.dot(theta, X.transpose()))\n",
    "    #print(probability)\n",
    "    return (probability >= 0.5).astype(int)"
   ]
  },
  {
   "cell_type": "code",
   "execution_count": 128,
   "metadata": {},
   "outputs": [
    {
     "name": "stdout",
     "output_type": "stream",
     "text": [
      "              precision    recall  f1-score   support\n",
      "\n",
      "           0       0.90      1.00      0.95    144277\n",
      "           1       0.50      0.00      0.00     15294\n",
      "\n",
      "    accuracy                           0.90    159571\n",
      "   macro avg       0.70      0.50      0.47    159571\n",
      "weighted avg       0.87      0.90      0.86    159571\n",
      "\n"
     ]
    }
   ],
   "source": [
    "from sklearn.metrics import classification_report  # this is a convinient function to show the classification performance\n",
    "\n",
    "theta_min =  result.x\n",
    "y_toxic_pred = predict(theta_min, X_t1)\n",
    "print(classification_report(y_toxic, y_toxic_pred))"
   ]
  },
  {
   "cell_type": "code",
   "execution_count": null,
   "metadata": {},
   "outputs": [],
   "source": []
  }
 ],
 "metadata": {
  "kernelspec": {
   "display_name": "Python 3",
   "language": "python",
   "name": "python3"
  },
  "language_info": {
   "codemirror_mode": {
    "name": "ipython",
    "version": 3
   },
   "file_extension": ".py",
   "mimetype": "text/x-python",
   "name": "python",
   "nbconvert_exporter": "python",
   "pygments_lexer": "ipython3",
   "version": "3.7.1"
  }
 },
 "nbformat": 4,
 "nbformat_minor": 4
}
