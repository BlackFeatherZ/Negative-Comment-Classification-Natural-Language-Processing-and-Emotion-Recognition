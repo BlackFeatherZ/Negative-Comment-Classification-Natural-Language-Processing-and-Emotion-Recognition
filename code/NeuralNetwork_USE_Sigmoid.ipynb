{
 "cells": [
  {
   "cell_type": "code",
   "execution_count": 70,
   "metadata": {},
   "outputs": [],
   "source": [
    "path=r'C:/Users/lenovo/Desktop/ML Project/dataset/'"
   ]
  },
  {
   "cell_type": "code",
   "execution_count": 71,
   "metadata": {},
   "outputs": [],
   "source": [
    "import pandas as pd\n",
    "import numpy as np\n",
    "train = pd.read_csv(\"../dataset/train.csv\")\n",
    "X = pd.read_csv(\"../embeddings/use_embeddings.csv\")\n",
    "test = pd.read_csv(\"../embeddings/use_embeddings_test.csv\")\n",
    "labels = pd.read_csv(path+\"test_labels.csv\")"
   ]
  },
  {
   "cell_type": "code",
   "execution_count": 5,
   "metadata": {},
   "outputs": [
    {
     "data": {
      "text/plain": [
       "array([[0, 0, 0, 0, 0, 0],\n",
       "       [0, 0, 0, 0, 0, 0],\n",
       "       [0, 0, 0, 0, 0, 0],\n",
       "       ...,\n",
       "       [0, 0, 0, 0, 0, 0],\n",
       "       [0, 0, 0, 0, 0, 0],\n",
       "       [0, 0, 0, 0, 0, 0]], dtype=int64)"
      ]
     },
     "execution_count": 5,
     "metadata": {},
     "output_type": "execute_result"
    }
   ],
   "source": [
    "#X.head()\n",
    "classes = [\"toxic\", \"severe_toxic\", \"obscene\", \"threat\", \"insult\", \"identity_hate\"]\n",
    "y = train[classes].values\n",
    "y"
   ]
  },
  {
   "cell_type": "code",
   "execution_count": 6,
   "metadata": {},
   "outputs": [],
   "source": [
    "input_size = 512\n",
    "hidden_size = 25\n",
    "num_labels = 6"
   ]
  },
  {
   "cell_type": "code",
   "execution_count": 28,
   "metadata": {},
   "outputs": [],
   "source": [
    "def sigmoid(z):\n",
    "    \n",
    "    #ReLU:\n",
    "    #return np.maximum(x, 0)\n",
    "    #x = (np.abs(x) + x) / 2.0\n",
    "\n",
    "    #return x\n",
    "    return 1 / (1 + np.exp(-z))\n"
   ]
  },
  {
   "cell_type": "code",
   "execution_count": 29,
   "metadata": {},
   "outputs": [],
   "source": [
    "def forward_propagate(X, theta1, theta2):\n",
    "    m = X.shape[0]\n",
    "    \n",
    "    a1 = np.insert(X, 0, values=np.ones(m), axis=1)\n",
    "    z2 = a1 * theta1.T\n",
    "    a2 = np.insert(sigmoid(z2), 0, values=np.ones(m), axis=1) #insert new bias\n",
    "    z3 = a2 * theta2.T\n",
    "    h = sigmoid(z3)\n",
    "\n",
    "    return a1, z2, a2, z3, h"
   ]
  },
  {
   "cell_type": "code",
   "execution_count": 30,
   "metadata": {},
   "outputs": [],
   "source": [
    "def cost(theta1, theta2, X, y):\n",
    "    m = len(X)\n",
    "    X = np.matrix(X)\n",
    "    y = np.matrix(y)\n",
    "    \n",
    "    # run the feed-forward pass\n",
    "    a1, z2, a2, z3, h = forward_propagate(X, theta1, theta2)\n",
    "    print(h)\n",
    "    \n",
    "    # compute the cost\n",
    "    J=0\n",
    "    J= -np.sum(np.multiply(y,np.log(h))+ np .multiply((1-y),np.log(1-h)))\n",
    "    return J / m"
   ]
  },
  {
   "cell_type": "code",
   "execution_count": 31,
   "metadata": {
    "scrolled": true
   },
   "outputs": [
    {
     "data": {
      "text/plain": [
       "((25, 513), (6, 26))"
      ]
     },
     "execution_count": 31,
     "metadata": {},
     "output_type": "execute_result"
    }
   ],
   "source": [
    "# the theta parameter vector \n",
    "# He initialization\n",
    "#params = np.random.random(size=hidden_size * (input_size + 1) + num_labels * (hidden_size + 1))  * np.sqrt(2 / input_size)\n",
    "params = (np.random.random(size=hidden_size * (input_size + 1) + num_labels * (hidden_size + 1)) - 0.5) * 0.25\n",
    "\n",
    "# the theta matrix derived from params\n",
    "theta1 = np.matrix(np.reshape(params[:hidden_size * (input_size + 1)], (hidden_size, (input_size + 1))))\n",
    "theta2 = np.matrix(np.reshape(params[hidden_size * (input_size + 1):], (num_labels, (hidden_size + 1))))\n",
    "theta1.shape,theta2.shape"
   ]
  },
  {
   "cell_type": "code",
   "execution_count": 32,
   "metadata": {},
   "outputs": [
    {
     "name": "stdout",
     "output_type": "stream",
     "text": [
      "[[0.4935239  0.53611841 0.45718205 0.53970042 0.46454421 0.44707005]\n",
      " [0.49028503 0.5361459  0.45924822 0.53889992 0.46363422 0.44433474]\n",
      " [0.49090845 0.53599394 0.45801973 0.53916533 0.46554205 0.44812923]\n",
      " ...\n",
      " [0.49230295 0.53490537 0.45693191 0.53842232 0.46667397 0.44940176]\n",
      " [0.49090218 0.53538539 0.45937098 0.53802836 0.46452254 0.44672405]\n",
      " [0.49324373 0.53590055 0.45861504 0.53857715 0.46503444 0.44734653]]\n"
     ]
    },
    {
     "data": {
      "text/plain": [
       "4.072015452206742"
      ]
     },
     "execution_count": 32,
     "metadata": {},
     "output_type": "execute_result"
    }
   ],
   "source": [
    "cost(theta1, theta2, X, y)"
   ]
  },
  {
   "cell_type": "code",
   "execution_count": 33,
   "metadata": {},
   "outputs": [],
   "source": [
    "def sigmoid_gradient(z):    # derivative of sigmoid \n",
    "    \n",
    "    #ReLU\n",
    "    #x[x <= 0] = 0\n",
    "    #x[x > 0] = 1\n",
    "\n",
    "    #return x\n",
    "    return np.multiply(sigmoid(z), (1 - sigmoid(z)))"
   ]
  },
  {
   "cell_type": "code",
   "execution_count": 34,
   "metadata": {},
   "outputs": [],
   "source": [
    "def backprop(params,  X, y):\n",
    "    m = len(X)\n",
    "    X = np.matrix(X)\n",
    "    y = np.matrix(y)\n",
    "    \n",
    "    # reshape the parameter array into parameter matrices for each layer\n",
    "    theta1 = np.matrix(np.reshape(params[:hidden_size * (input_size + 1)], (hidden_size, (input_size + 1))))\n",
    "    theta2 = np.matrix(np.reshape(params[hidden_size * (input_size + 1):], (num_labels, (hidden_size + 1))))\n",
    "    \n",
    "    # run the feed-forward pass\n",
    "    a1, z2, a2, z3, h = forward_propagate(X, theta1, theta2)\n",
    "    \n",
    "    # initializations\n",
    "    J = 0\n",
    "    delta1 = np.zeros(theta1.shape)# (25, 401)\n",
    "    delta2 = np.zeros(theta2.shape)# (10, 26)\n",
    "    \n",
    "    # compute the cost\n",
    "    for i in range(m):\n",
    "        first_part =np.multiply(-y[i,:],np.log(h[i,:]))\n",
    "        second_part =np.multiply((1-y[i,:]),np.log(1-h[i,:]))\n",
    "        J+=np.sum(first_part-second_part)\n",
    "    J = J/m\n",
    "    \n",
    "    # perform backpropagation\n",
    "    for t in range(m):#m=5000\n",
    "        \n",
    "        a_1t = a1[t,:]\n",
    "        z_2t=z2[t,:]\n",
    "        z_2t=np.insert(sigmoid_gradient(z_2t),0,values=np.ones(1))\n",
    "        a_2t = a2[t,:]  \n",
    "        z_3t=z3[t,:]\n",
    "        ht=h[t,:]#(1,10)\n",
    "        yt = y[t,:]#(1,10)\n",
    "        d3_t=ht-yt\n",
    "            \n",
    "        d2_t=np.multiply((theta2.T*d3_t.T).T,z_2t)#(1,26)\n",
    "        delta1=delta1+np.multiply(d2_t[:,1:].T,a_1t)\n",
    "        delta2=delta2+np.multiply(d3_t.T,a_2t)\n",
    "\n",
    "    delta1 = delta1 / m\n",
    "    delta2 = delta2 / m\n",
    "\n",
    "    grad = np.concatenate((np.ravel(delta1), np.ravel(delta2)))\n",
    "    return J,grad"
   ]
  },
  {
   "cell_type": "code",
   "execution_count": 35,
   "metadata": {},
   "outputs": [
    {
     "data": {
      "text/plain": [
       "(4.072015452206786, (12981,))"
      ]
     },
     "execution_count": 35,
     "metadata": {},
     "output_type": "execute_result"
    }
   ],
   "source": [
    "J, grad = backprop(params, X, y)\n",
    "J, grad.shape"
   ]
  },
  {
   "cell_type": "code",
   "execution_count": 37,
   "metadata": {},
   "outputs": [
    {
     "data": {
      "text/plain": [
       "     fun: 0.35781605324886867\n",
       "     jac: array([-4.01852853e-04,  6.41655214e-06,  3.26822965e-06, ...,\n",
       "        5.97044596e-04,  4.64399673e-04,  1.05502046e-03])\n",
       " message: 'Max. number of function evaluations reached'\n",
       "    nfev: 101\n",
       "     nit: 12\n",
       "  status: 3\n",
       " success: False\n",
       "       x: array([-0.38216075,  0.05357219,  0.27107219, ..., -0.65317092,\n",
       "       -0.37540756, -1.25353737])"
      ]
     },
     "execution_count": 37,
     "metadata": {},
     "output_type": "execute_result"
    }
   ],
   "source": [
    "from scipy.optimize import minimize\n",
    "#params = np.concatenate((np.ravel(theta1), np.ravel(theta2)))\n",
    "# minimize the objective function\n",
    "fmin = minimize(fun=backprop, x0=params, args=(X, y), \n",
    "                method='TNC', jac=True, options={'maxiter': 100})\n",
    "fmin"
   ]
  },
  {
   "cell_type": "code",
   "execution_count": 73,
   "metadata": {},
   "outputs": [],
   "source": [
    "def predict(X):\n",
    "    X = np.matrix(X)\n",
    "    #print(X.shape)\n",
    "    theta1 = np.matrix(np.reshape(fmin.x[:hidden_size * (input_size + 1)], (hidden_size, (input_size + 1))))\n",
    "    theta2 = np.matrix(np.reshape(fmin.x[hidden_size * (input_size + 1):], (num_labels, (hidden_size + 1))))\n",
    "    #print(theta1)\n",
    "    a1, z2, a2, z3, h = forward_propagate(X, theta1, theta2)\n",
    "    return h"
   ]
  },
  {
   "cell_type": "code",
   "execution_count": 67,
   "metadata": {},
   "outputs": [],
   "source": [
    "from sklearn.metrics import roc_auc_score"
   ]
  },
  {
   "cell_type": "code",
   "execution_count": 74,
   "metadata": {},
   "outputs": [
    {
     "name": "stderr",
     "output_type": "stream",
     "text": [
      "D:\\Anaconda3\\lib\\site-packages\\sklearn\\utils\\validation.py:590: FutureWarning: np.matrix usage is deprecated in 1.0 and will raise a TypeError in 1.2. Please convert to a numpy array with np.asarray. For more information see: https://numpy.org/doc/stable/reference/generated/numpy.matrix.html\n",
      "  FutureWarning,\n"
     ]
    },
    {
     "name": "stdout",
     "output_type": "stream",
     "text": [
      "Train ROC AUC Score: 0.969262031040528\n"
     ]
    }
   ],
   "source": [
    "# AUC of the training set:\n",
    "y_pred = predict(X)\n",
    "train_roc_auc = roc_auc_score(y, y_pred)\n",
    "print('Train ROC AUC Score:', train_roc_auc)"
   ]
  },
  {
   "cell_type": "code",
   "execution_count": 75,
   "metadata": {},
   "outputs": [
    {
     "name": "stdout",
     "output_type": "stream",
     "text": [
      "Test ROC AUC Score: 0.9586175878003429\n"
     ]
    },
    {
     "name": "stderr",
     "output_type": "stream",
     "text": [
      "D:\\Anaconda3\\lib\\site-packages\\sklearn\\utils\\validation.py:590: FutureWarning: np.matrix usage is deprecated in 1.0 and will raise a TypeError in 1.2. Please convert to a numpy array with np.asarray. For more information see: https://numpy.org/doc/stable/reference/generated/numpy.matrix.html\n",
      "  FutureWarning,\n"
     ]
    }
   ],
   "source": [
    "# AUC of the test set:\n",
    "labels = labels[classes]\n",
    "sum_labels=np.sum(labels.values,axis=1)\n",
    "idx=sum_labels>=0\n",
    "y_test = labels[idx]\n",
    "X_test = test[idx]\n",
    "\n",
    "y_pred_test = predict(X_test)\n",
    "test_roc_auc = roc_auc_score(y_test, y_pred_test)\n",
    "print('Test ROC AUC Score:', test_roc_auc)"
   ]
  }
 ],
 "metadata": {
  "kernelspec": {
   "display_name": "Python 3",
   "language": "python",
   "name": "python3"
  },
  "language_info": {
   "codemirror_mode": {
    "name": "ipython",
    "version": 3
   },
   "file_extension": ".py",
   "mimetype": "text/x-python",
   "name": "python",
   "nbconvert_exporter": "python",
   "pygments_lexer": "ipython3",
   "version": "3.7.1"
  }
 },
 "nbformat": 4,
 "nbformat_minor": 4
}
